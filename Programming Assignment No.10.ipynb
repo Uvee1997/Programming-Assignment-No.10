{
 "cells": [
  {
   "cell_type": "markdown",
   "id": "625affc0",
   "metadata": {},
   "source": [
    "1) Write a Python Program to find sum of element in list ?"
   ]
  },
  {
   "cell_type": "code",
   "execution_count": 5,
   "id": "013cb7f1",
   "metadata": {},
   "outputs": [
    {
     "name": "stdout",
     "output_type": "stream",
     "text": [
      "sum of all element in given list 28\n"
     ]
    }
   ],
   "source": [
    "total = 0\n",
    "l = [12,5,6,5]\n",
    "for ele in range(0,len(l)):\n",
    "    total = total + l[ele]\n",
    "print(\"sum of all element in given list\" , total)    \n"
   ]
  },
  {
   "cell_type": "markdown",
   "id": "1d4c9a09",
   "metadata": {},
   "source": [
    "2) Write a Python Program to multiply all numbers in list ?"
   ]
  },
  {
   "cell_type": "code",
   "execution_count": 17,
   "id": "d5435320",
   "metadata": {},
   "outputs": [
    {
     "name": "stdout",
     "output_type": "stream",
     "text": [
      "6\n"
     ]
    }
   ],
   "source": [
    "a_list = [1,2,3]\n",
    "product = 1\n",
    "\n",
    "for item in a_list:\n",
    "    product = product * item\n",
    "print(product)    "
   ]
  },
  {
   "cell_type": "markdown",
   "id": "2e07597c",
   "metadata": {},
   "source": [
    "3) Write a Python program to find smallest number in a list ?"
   ]
  },
  {
   "cell_type": "code",
   "execution_count": 28,
   "id": "5052a7ee",
   "metadata": {},
   "outputs": [
    {
     "name": "stdout",
     "output_type": "stream",
     "text": [
      "smallest number is : 5\n"
     ]
    }
   ],
   "source": [
    "a = [42,23,5,12]\n",
    "smallest = min(a)\n",
    "print(f\"smallest number is : {smallest}\" )    "
   ]
  },
  {
   "cell_type": "markdown",
   "id": "fdfce641",
   "metadata": {},
   "source": [
    "4) Write a Python Program to find largest number in a list ?"
   ]
  },
  {
   "cell_type": "code",
   "execution_count": 29,
   "id": "fc9a2834",
   "metadata": {},
   "outputs": [
    {
     "name": "stdout",
     "output_type": "stream",
     "text": [
      "largest number is : 89\n"
     ]
    }
   ],
   "source": [
    "b = [4,56,89,7]\n",
    "largest = max(b)\n",
    "print(f\"largest number is : {largest}\")"
   ]
  },
  {
   "cell_type": "markdown",
   "id": "41236b86",
   "metadata": {},
   "source": [
    "5) Write a Python program to find second largest number in a list ?"
   ]
  },
  {
   "cell_type": "code",
   "execution_count": 32,
   "id": "4eb4a6af",
   "metadata": {},
   "outputs": [
    {
     "name": "stdout",
     "output_type": "stream",
     "text": [
      "secound largest number 56\n"
     ]
    }
   ],
   "source": [
    "a = [12,56,100,5]\n",
    "a.sort()\n",
    "print(\"secound largest number\" , a[-2])"
   ]
  },
  {
   "cell_type": "markdown",
   "id": "e867dc00",
   "metadata": {},
   "source": [
    "6) Write a Python Program to find N largest number from list ?"
   ]
  },
  {
   "cell_type": "code",
   "execution_count": 36,
   "id": "b7bcd966",
   "metadata": {},
   "outputs": [
    {
     "name": "stdout",
     "output_type": "stream",
     "text": [
      "N largest number [89, 125]\n"
     ]
    }
   ],
   "source": [
    "a = [125,56,89,5,4]\n",
    "N = 2\n",
    "a.sort()\n",
    "print(\"N largest number\" , a[-N:])"
   ]
  },
  {
   "cell_type": "markdown",
   "id": "d646e13d",
   "metadata": {},
   "source": [
    "7) Write a Python program to print even numbers in a list ?"
   ]
  },
  {
   "cell_type": "code",
   "execution_count": 50,
   "id": "465e49fa",
   "metadata": {},
   "outputs": [
    {
     "name": "stdout",
     "output_type": "stream",
     "text": [
      "6 8 10 "
     ]
    }
   ],
   "source": [
    "a = [1,3,6,8,10]\n",
    "for num in a:\n",
    "    if num%2 == 0:\n",
    "        print(num , end = \" \")    \n",
    "   "
   ]
  },
  {
   "cell_type": "markdown",
   "id": "a8dbb64a",
   "metadata": {},
   "source": [
    "8) Write a Python program to print odd numbers in a List ?"
   ]
  },
  {
   "cell_type": "code",
   "execution_count": 54,
   "id": "c8f94194",
   "metadata": {},
   "outputs": [
    {
     "name": "stdout",
     "output_type": "stream",
     "text": [
      "45 85 3 "
     ]
    }
   ],
   "source": [
    "a = [45,85,3,2,4]\n",
    "for num in a:\n",
    "    if num % 2 != 0:\n",
    "        print(num , end = ' ')"
   ]
  },
  {
   "cell_type": "markdown",
   "id": "81412ea0",
   "metadata": {},
   "source": [
    "9) Write a Python program to Remove empty List from List ?"
   ]
  },
  {
   "cell_type": "code",
   "execution_count": 55,
   "id": "b9866407",
   "metadata": {},
   "outputs": [
    {
     "name": "stdout",
     "output_type": "stream",
     "text": [
      "the original list is :[2, 5, [], 6, [], 30]\n",
      "the list after empty list removal :[2, 5, 6, 30]\n"
     ]
    }
   ],
   "source": [
    "list = [2,5,[],6,[],30]\n",
    "print(\"the original list is :\" + str(list))\n",
    "res = [ele for ele in list if ele != []]\n",
    "print(\"the list after empty list removal :\" + str(res))"
   ]
  },
  {
   "cell_type": "markdown",
   "id": "0a7a44f0",
   "metadata": {},
   "source": [
    "10) Write a Python program to Cloning or Copying a list ?"
   ]
  },
  {
   "cell_type": "code",
   "execution_count": 56,
   "id": "0f22baa4",
   "metadata": {},
   "outputs": [
    {
     "name": "stdout",
     "output_type": "stream",
     "text": [
      "original list: [1, 5, 6, 3]\n",
      "after cloning: [1, 5, 6, 3]\n"
     ]
    }
   ],
   "source": [
    "def cloning(li1):\n",
    "    li_copy = li1[:]\n",
    "    return li_copy\n",
    "li1 = [1,5,6,3]\n",
    "li2 = cloning(li1)\n",
    "print(\"original list:\" , li1)\n",
    "print(\"after cloning:\" , li2)"
   ]
  },
  {
   "cell_type": "markdown",
   "id": "b368733e",
   "metadata": {},
   "source": [
    "11) Write a Python program to Count occurrences of an element in a list ?"
   ]
  },
  {
   "cell_type": "code",
   "execution_count": 64,
   "id": "d489898f",
   "metadata": {},
   "outputs": [],
   "source": [
    "def countX(lst,x):\n",
    "    count = 0\n",
    "    for ele in lst:\n",
    "        if (ele == x):\n",
    "            count = count + 1\n",
    "    return count\n",
    "lst = [1,2,3,2,2,5]\n",
    "x = 2\n",
    "print =(\"{} has occured {} times\".format(x,countX(lst,x)))"
   ]
  },
  {
   "cell_type": "code",
   "execution_count": 67,
   "id": "843d5091",
   "metadata": {},
   "outputs": [
    {
     "data": {
      "text/plain": [
       "3"
      ]
     },
     "execution_count": 67,
     "metadata": {},
     "output_type": "execute_result"
    }
   ],
   "source": [
    "countX(lst,x)"
   ]
  }
 ],
 "metadata": {
  "kernelspec": {
   "display_name": "Python 3 (ipykernel)",
   "language": "python",
   "name": "python3"
  },
  "language_info": {
   "codemirror_mode": {
    "name": "ipython",
    "version": 3
   },
   "file_extension": ".py",
   "mimetype": "text/x-python",
   "name": "python",
   "nbconvert_exporter": "python",
   "pygments_lexer": "ipython3",
   "version": "3.9.7"
  }
 },
 "nbformat": 4,
 "nbformat_minor": 5
}
